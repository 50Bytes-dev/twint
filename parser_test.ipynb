{
 "cells": [
  {
   "cell_type": "code",
   "execution_count": 1,
   "metadata": {
    "collapsed": true
   },
   "outputs": [],
   "source": [
    "import twint\n",
    "\n",
    "config = twint.Config()\n",
    "config.User_id = '1474364285333684230'\n",
    "config.Username = 'elonmusk'\n",
    "config.Store_object = True\n",
    "config.User_full = True"
   ]
  },
  {
   "cell_type": "code",
   "execution_count": 2,
   "outputs": [
    {
     "name": "stdout",
     "output_type": "stream",
     "text": [
      "44196397 | Elon Musk | @elonmusk | Private: False | Verified: True | Bio: Mars & Cars, Chips & Dips | Location:  | Url: None | Joined: 2009-06-02 20:12:29 UTC | Tweets: 18965 | Following: 118 | Followers: 103139127 | Likes: 13723 | Media: 1197 | Avatar: https://pbs.twimg.com/profile_images/1529956155937759233/Nyn1HZWF_normal.jpg\n"
     ]
    }
   ],
   "source": [
    "twint.output.clean_lists()\n",
    "twint.run.Lookup(config)"
   ],
   "metadata": {
    "collapsed": false,
    "pycharm": {
     "name": "#%%\n"
    }
   }
  },
  {
   "cell_type": "code",
   "execution_count": 3,
   "outputs": [
    {
     "data": {
      "text/plain": "<twint.user.user at 0x105688610>"
     },
     "execution_count": 3,
     "metadata": {},
     "output_type": "execute_result"
    }
   ],
   "source": [
    "twint.output.users_list[0]"
   ],
   "metadata": {
    "collapsed": false,
    "pycharm": {
     "name": "#%%\n"
    }
   }
  },
  {
   "cell_type": "code",
   "execution_count": null,
   "outputs": [],
   "source": [],
   "metadata": {
    "collapsed": false,
    "pycharm": {
     "name": "#%%\n"
    }
   }
  }
 ],
 "metadata": {
  "kernelspec": {
   "display_name": "Python 3",
   "language": "python",
   "name": "python3"
  },
  "language_info": {
   "codemirror_mode": {
    "name": "ipython",
    "version": 2
   },
   "file_extension": ".py",
   "mimetype": "text/x-python",
   "name": "python",
   "nbconvert_exporter": "python",
   "pygments_lexer": "ipython2",
   "version": "2.7.6"
  }
 },
 "nbformat": 4,
 "nbformat_minor": 0
}